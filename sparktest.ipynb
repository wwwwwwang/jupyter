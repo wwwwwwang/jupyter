{
 "cells": [
  {
   "cell_type": "code",
   "execution_count": 1,
   "metadata": {
    "collapsed": false
   },
   "outputs": [
    {
     "name": "stdout",
     "output_type": "stream",
     "text": [
      "Pi is roughly 3.141692\n"
     ]
    }
   ],
   "source": [
    "import scala.math.random\n",
    "import org.apache.spark._\n",
    "\n",
    "val slices = 10\n",
    "val n = math.min(100000L * slices, Int.MaxValue).toInt\n",
    "val count = sc.parallelize(1 until n, slices).map{i=>\n",
    "    val x = random*2-1\n",
    "    val y = random*2-1\n",
    "    if(x*x + y*y < 1) 1 else 0\n",
    "}.reduce(_+_)\n",
    "\n",
    "println(\"Pi is roughly \" + 4.0*count/n)"
   ]
  },
  {
   "cell_type": "code",
   "execution_count": null,
   "metadata": {
    "collapsed": true
   },
   "outputs": [],
   "source": []
  }
 ],
 "metadata": {
  "kernelspec": {
   "display_name": "spark 2.1.0(scala 2.12.1)",
   "language": "",
   "name": "spark"
  },
  "language_info": {
   "codemirror_mode": "text/x-scala",
   "file_extension": ".scala",
   "mimetype": "text/x-scala",
   "name": "scala",
   "pygments_lexer": "scala",
   "version": "2.11.8"
  }
 },
 "nbformat": 4,
 "nbformat_minor": 2
}
