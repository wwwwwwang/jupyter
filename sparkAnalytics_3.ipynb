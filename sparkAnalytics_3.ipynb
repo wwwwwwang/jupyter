{
 "cells": [
  {
   "cell_type": "code",
   "execution_count": 1,
   "metadata": {
    "collapsed": false
   },
   "outputs": [
    {
     "data": {
      "text/plain": [
       "24296858"
      ]
     },
     "execution_count": 1,
     "metadata": {},
     "output_type": "execute_result"
    }
   ],
   "source": [
    "val rawUserArtistData = sc.textFile(\"file:///var/lib/myspark/dataset/profiledata_06-May-2005/user_artist_data.txt\")\n",
    "rawUserArtistData.count()"
   ]
  },
  {
   "cell_type": "code",
   "execution_count": 2,
   "metadata": {
    "collapsed": false
   },
   "outputs": [
    {
     "data": {
      "text/plain": [
       "(count: 24296858, mean: 1947573.265353, stdev: 496000.544975, max: 2443548.000000, min: 90.000000)"
      ]
     },
     "execution_count": 2,
     "metadata": {},
     "output_type": "execute_result"
    }
   ],
   "source": [
    "rawUserArtistData.map(_.split(' ')(0).toDouble).stats()"
   ]
  },
  {
   "cell_type": "code",
   "execution_count": 3,
   "metadata": {
    "collapsed": false
   },
   "outputs": [
    {
     "data": {
      "text/plain": [
       "(count: 24296858, mean: 1718704.093757, stdev: 2539389.040171, max: 10794401.000000, min: 1.000000)"
      ]
     },
     "execution_count": 3,
     "metadata": {},
     "output_type": "execute_result"
    }
   ],
   "source": [
    "rawUserArtistData.map(_.split(' ')(1).toDouble).stats()"
   ]
  },
  {
   "cell_type": "code",
   "execution_count": 4,
   "metadata": {
    "collapsed": false
   },
   "outputs": [
    {
     "data": {
      "text/plain": [
       "1848707"
      ]
     },
     "execution_count": 4,
     "metadata": {},
     "output_type": "execute_result"
    }
   ],
   "source": [
    "val rawArtistData = sc.textFile(\"file:///var/lib/myspark/dataset/profiledata_06-May-2005/artist_data.txt\")\n",
    "rawArtistData.count()"
   ]
  },
  {
   "cell_type": "code",
   "execution_count": 5,
   "metadata": {
    "collapsed": false
   },
   "outputs": [
    {
     "name": "stdout",
     "output_type": "stream",
     "text": [
      "(1134999,06Crazy Life)\n",
      "(6821360,Pang Nakarin)\n",
      "(10113088,Terfel, Bartoli- Mozart: Don)\n",
      "(10151459,The Flaming Sidebur)\n",
      "(6826647,Bodenstandig 3000)\n"
     ]
    }
   ],
   "source": [
    "val artistByID = rawArtistData.map{\n",
    "    line => \n",
    "    val (id, name) = line.span(_ != '\\t')\n",
    "    (id.toInt, name.trim)\n",
    "}\n",
    "artistByID.take(5).foreach(println)"
   ]
  },
  {
   "cell_type": "code",
   "execution_count": 6,
   "metadata": {
    "collapsed": false
   },
   "outputs": [
    {
     "name": "stdout",
     "output_type": "stream",
     "text": [
      "(1134999,06Crazy Life)\n",
      "(6821360,Pang Nakarin)\n",
      "(10113088,Terfel, Bartoli- Mozart: Don)\n",
      "(10151459,The Flaming Sidebur)\n",
      "(6826647,Bodenstandig 3000)\n",
      "(10186265,Jota Quest e Ivete Sangalo)\n",
      "(6828986,Toto_XX (1977)\n",
      "(10236364,U.S Bombs -)\n",
      "(1135000,artist formaly know as Mat)\n",
      "(10299728,Kassierer - Musik für beide Ohren)\n"
     ]
    }
   ],
   "source": [
    "val artistByID = rawArtistData.map{ line => \n",
    "    val (id, name ) = line.span(_ != '\\t')\n",
    "    if(name.isEmpty){\n",
    "        None\n",
    "    }else{\n",
    "        try{\n",
    "            Some((id.toInt, name.trim))\n",
    "        }catch{\n",
    "            case e: NumberFormatException => None\n",
    "        }\n",
    "    }\n",
    "}\n",
    "val newArtistByID = artistByID.filter(_ != None).map{case Some((a,b))=>(a,b)}\n",
    "newArtistByID.take(10).foreach(println)"
   ]
  },
  {
   "cell_type": "code",
   "execution_count": 7,
   "metadata": {
    "collapsed": false
   },
   "outputs": [
    {
     "name": "stdout",
     "output_type": "stream",
     "text": [
      "(2094504,1012167)\n",
      "(1186393,78)\n",
      "(2139121,1011083)\n",
      "(10208201,4605)\n",
      "(2024757,1001941)\n",
      "(9969191,1320354)\n",
      "(10412283,1010353)\n",
      "(2124273,2814)\n",
      "(6663187,1992)\n",
      "(6803336,1000010)\n"
     ]
    }
   ],
   "source": [
    "val rawArtistAlias = sc.textFile(\"file:///var/lib/myspark/dataset/profiledata_06-May-2005/artist_alias.txt\")\n",
    "val artistAlias = rawArtistAlias.flatMap{ line =>\n",
    "    val tokens = line.split('\\t')\n",
    "    if(tokens(0).isEmpty){\n",
    "        None\n",
    "    }else {\n",
    "        Some((tokens(0).toInt, tokens(1).toInt))\n",
    "    }\n",
    "}.collectAsMap()\n",
    "artistAlias.take(10).foreach(println)"
   ]
  },
  {
   "cell_type": "code",
   "execution_count": 8,
   "metadata": {
    "collapsed": false,
    "scrolled": true
   },
   "outputs": [
    {
     "data": {
      "text/plain": [
       "Ja Rule ft. lil mo & vita"
      ]
     },
     "execution_count": 8,
     "metadata": {},
     "output_type": "execute_result"
    }
   ],
   "source": [
    "newArtistByID.lookup(6663187).head"
   ]
  },
  {
   "cell_type": "code",
   "execution_count": 9,
   "metadata": {
    "collapsed": false
   },
   "outputs": [
    {
     "data": {
      "text/plain": [
       "Ja Rule"
      ]
     },
     "execution_count": 9,
     "metadata": {},
     "output_type": "execute_result"
    }
   ],
   "source": [
    "newArtistByID.lookup(1992).head"
   ]
  },
  {
   "cell_type": "code",
   "execution_count": 10,
   "metadata": {
    "collapsed": false
   },
   "outputs": [
    {
     "data": {
      "text/plain": [
       "24296858"
      ]
     },
     "execution_count": 10,
     "metadata": {},
     "output_type": "execute_result"
    }
   ],
   "source": [
    "import org.apache.spark.mllib.recommendation._\n",
    "\n",
    "val bArtistAlias = sc.broadcast(artistAlias)\n",
    "\n",
    "val trainData = rawUserArtistData.map{ line =>\n",
    "    val Array(userID, artistID, count) = line.split(' ').map(_.toInt)\n",
    "    val finalArtistID = bArtistAlias.value.getOrElse(artistID, artistID)\n",
    "    Rating(userID, finalArtistID, count)\n",
    "}.cache()\n",
    "trainData.count()"
   ]
  },
  {
   "cell_type": "code",
   "execution_count": 11,
   "metadata": {
    "collapsed": false
   },
   "outputs": [
    {
     "name": "stdout",
     "output_type": "stream",
     "text": [
      "Rating(1000002,1,55.0)\n",
      "Rating(1000002,1000006,33.0)\n",
      "Rating(1000002,1000007,8.0)\n",
      "Rating(1000002,1000009,144.0)\n",
      "Rating(1000002,1000010,314.0)\n",
      "Rating(1000002,1000013,8.0)\n",
      "Rating(1000002,1000014,42.0)\n",
      "Rating(1000002,1000017,69.0)\n",
      "Rating(1000002,1000024,329.0)\n",
      "Rating(1000002,1000025,1.0)\n",
      "Rating(1000002,1000028,17.0)\n",
      "Rating(1000002,1000031,47.0)\n",
      "Rating(1000002,1000033,15.0)\n",
      "Rating(1000002,1000042,1.0)\n",
      "Rating(1000002,1000045,1.0)\n",
      "Rating(1000002,1000054,2.0)\n",
      "Rating(1000002,1000055,25.0)\n",
      "Rating(1000002,1000056,4.0)\n",
      "Rating(1000002,1000059,2.0)\n",
      "Rating(1000002,1000062,71.0)\n"
     ]
    }
   ],
   "source": [
    "trainData.take(20).foreach(println)"
   ]
  },
  {
   "cell_type": "code",
   "execution_count": 12,
   "metadata": {
    "collapsed": false
   },
   "outputs": [],
   "source": [
    "val model = ALS.trainImplicit(trainData, 10, 5, 0.01, 1.0)"
   ]
  },
  {
   "cell_type": "code",
   "execution_count": 13,
   "metadata": {
    "collapsed": false
   },
   "outputs": [
    {
     "data": {
      "text/plain": [
       "(90,-0.6872329115867615, -0.6961866021156311, 0.6544296741485596, -0.021609988063573837, 0.01312947366386652, -0.22800526022911072, -0.33769890666007996, 0.3442131578922272, -0.5649751424789429, -0.7838118076324463)"
      ]
     },
     "execution_count": 13,
     "metadata": {},
     "output_type": "execute_result"
    }
   ],
   "source": [
    "model.userFeatures.mapValues(_.mkString(\", \")).first()"
   ]
  },
  {
   "cell_type": "code",
   "execution_count": 23,
   "metadata": {
    "collapsed": false
   },
   "outputs": [
    {
     "name": "stdout",
     "output_type": "stream",
     "text": [
      "\r",
      "                                                                                \r",
      "2093760 : 1180 : 1\n",
      "2093760 : 1255340 : 3\n",
      "2093760 : 378 : 1\n",
      "2093760 : 813 : 2\n",
      "2093760 : 942 : 7\n"
     ]
    }
   ],
   "source": [
    "val rawArtist4User = rawUserArtistData.map(_.split(' ')).filter{case Array(user,_,_)=> user.toInt == 2093760}\n",
    "rawArtist4User.collect.foreach(x=>println(x(0) +\" : \"+ x(1) +\" : \"+ x(2)))"
   ]
  },
  {
   "cell_type": "code",
   "execution_count": 25,
   "metadata": {
    "collapsed": false
   },
   "outputs": [
    {
     "name": "stdout",
     "output_type": "stream",
     "text": [
      "\r",
      "                                                                                \r",
      "2093760 : 1255340 : 3\n",
      "2093760 : 942 : 7\n"
     ]
    }
   ],
   "source": [
    "val rawArtist4UserGT2 = rawUserArtistData.map(_.split(' ')).filter{case Array(user,_,count)=> (user.toInt == 2093760 && count.toInt >=2 )}\n",
    "rawArtist4User.collect.foreach(x=>println(x(0) +\" : \"+ x(1) +\" : \"+ x(2)))"
   ]
  },
  {
   "cell_type": "code",
   "execution_count": 21,
   "metadata": {
    "collapsed": false
   },
   "outputs": [
    {
     "name": "stdout",
     "output_type": "stream",
     "text": [
      "1255340\n",
      "942\n",
      "1180\n",
      "813\n",
      "378\n"
     ]
    }
   ],
   "source": [
    "val existingProducts = rawArtist4User.map{case Array(_,artist,_)=>artist.toInt}.collect().toSet\n",
    "existingProducts.foreach(println)"
   ]
  },
  {
   "cell_type": "code",
   "execution_count": 20,
   "metadata": {
    "collapsed": false
   },
   "outputs": [
    {
     "name": "stdout",
     "output_type": "stream",
     "text": [
      "\r",
      "                                                                                \r",
      "David Gray\n",
      "Blackalicious\n",
      "Jurassic 5\n",
      "The Saw Doctors\n",
      "Xzibit\n"
     ]
    }
   ],
   "source": [
    "newArtistByID.filter{case (id,name)=>existingProducts.contains(id)}.values.collect().foreach(println)"
   ]
  },
  {
   "cell_type": "code",
   "execution_count": 26,
   "metadata": {
    "collapsed": false
   },
   "outputs": [
    {
     "name": "stdout",
     "output_type": "stream",
     "text": [
      "Rating(2093760,2814,0.03293693435758711)\n",
      "Rating(2093760,1001819,0.03229471003837945)\n",
      "Rating(2093760,1300642,0.03206460631566366)\n",
      "Rating(2093760,1007614,0.03136908302499334)\n",
      "Rating(2093760,4605,0.03134113371120238)\n",
      "Rating(2093760,1003249,0.030874872787023278)\n",
      "Rating(2093760,1811,0.030867540635197574)\n",
      "Rating(2093760,1037970,0.030770580428378828)\n",
      "Rating(2093760,829,0.029971973588721963)\n",
      "Rating(2093760,1004028,0.0299674146954826)\n"
     ]
    }
   ],
   "source": [
    "val recommendations = model.recommendProducts(2093760, 10)\n",
    "recommendations.foreach(println)"
   ]
  },
  {
   "cell_type": "code",
   "execution_count": 29,
   "metadata": {
    "collapsed": false
   },
   "outputs": [
    {
     "name": "stdout",
     "output_type": "stream",
     "text": [
      "\r",
      "                                                                                \r",
      "Notorious B.I.G.\n",
      "50 Cent\n",
      "Snoop Dogg\n",
      "Nas\n",
      "Jay-Z\n",
      "Kanye West\n",
      "Dr. Dre\n",
      "Ludacris\n",
      "2Pac\n",
      "The Game\n"
     ]
    }
   ],
   "source": [
    "val recommendedProductIDs = recommendations.map(_.product).toSet\n",
    "newArtistByID.filter{case (id,name)=>recommendedProductIDs.contains(id)}.values.collect().foreach(println)"
   ]
  },
  {
   "cell_type": "code",
   "execution_count": 30,
   "metadata": {
    "collapsed": true
   },
   "outputs": [],
   "source": [
    "val newModel = ALS.trainImplicit(trainData, 50, 5, 1.0, 40)"
   ]
  },
  {
   "cell_type": "code",
   "execution_count": 31,
   "metadata": {
    "collapsed": false
   },
   "outputs": [
    {
     "name": "stdout",
     "output_type": "stream",
     "text": [
      "\r",
      "                                                                                \r",
      "50 Cent\n",
      "Snoop Dogg\n",
      "Jay-Z\n",
      "Black Eyed Peas\n",
      "Kanye West\n",
      "D12\n",
      "Dr. Dre\n",
      "2Pac\n",
      "Eminem\n",
      "Outkast\n"
     ]
    }
   ],
   "source": [
    "val recommendationsNew = newModel.recommendProducts(2093760, 10)\n",
    "val recommendedProductIDsNew = recommendationsNew.map(_.product).toSet\n",
    "newArtistByID.filter{case (id,name)=>recommendedProductIDsNew.contains(id)}.values.collect().foreach(println)"
   ]
  }
 ],
 "metadata": {
  "kernelspec": {
   "display_name": "spark 2.1.0(scala 2.12.1)",
   "language": "",
   "name": "spark"
  },
  "language_info": {
   "codemirror_mode": "text/x-scala",
   "file_extension": ".scala",
   "mimetype": "text/x-scala",
   "name": "scala",
   "pygments_lexer": "scala",
   "version": "2.11.8"
  }
 },
 "nbformat": 4,
 "nbformat_minor": 2
}
