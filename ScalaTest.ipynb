{
 "cells": [
  {
   "cell_type": "code",
   "execution_count": 20,
   "metadata": {
    "collapsed": false
   },
   "outputs": [
    {
     "name": "stdout",
     "output_type": "stream",
     "text": [
      "1\n",
      "1\n",
      "2\n",
      "3\n",
      "5\n",
      "8\n",
      "13\n",
      "21\n",
      "34\n",
      "55\n",
      "89\n"
     ]
    }
   ],
   "source": [
    "def f(n:Long):Long={\n",
    "    if(n<=1) \n",
    "        1\n",
    "    else\n",
    "        f(n-2)+f(n-1)\n",
    "}\n",
    "for (i <- 0 to 10)\n",
    "    println(f(i))"
   ]
  },
  {
   "cell_type": "code",
   "execution_count": 21,
   "metadata": {
    "collapsed": false
   },
   "outputs": [
    {
     "name": "stdout",
     "output_type": "stream",
     "text": [
      "u can drink 199 bottles\n"
     ]
    }
   ],
   "source": [
    "var money = 100\n",
    "var cap = 0\n",
    "var count = 0\n",
    "while(money>0){\n",
    "    money -= 1\n",
    "    count += 1\n",
    "    cap += 1\n",
    "    if(cap%2==0){\n",
    "        money += 1\n",
    "    }\n",
    "}\n",
    "println(s\"u can drink $count bottles\")"
   ]
  },
  {
   "cell_type": "code",
   "execution_count": 22,
   "metadata": {
    "collapsed": false
   },
   "outputs": [
    {
     "name": "stdout",
     "output_type": "stream",
     "text": [
      "u can drink 199 bottles\n"
     ]
    }
   ],
   "source": [
    "def drink(count:Int, cap:Int, money:Int):Int = {\n",
    "    if(cap < 2 && money == 0)\n",
    "        count\n",
    "    else\n",
    "        drink(count+money,money+cap%2,cap/2)\n",
    "}\n",
    "println(s\"u can drink ${drink(0,0,100)} bottles\")"
   ]
  },
  {
   "cell_type": "code",
   "execution_count": 23,
   "metadata": {
    "collapsed": false
   },
   "outputs": [
    {
     "name": "stdout",
     "output_type": "stream",
     "text": [
      "u can drink 395 bottles\n"
     ]
    }
   ],
   "source": [
    "var money = 100\n",
    "var bottle = 0\n",
    "var cap = 0\n",
    "var count = 0\n",
    "while(money>0){\n",
    "    money -= 1\n",
    "    count += 1\n",
    "    bottle += 1\n",
    "    cap += 1\n",
    "    if(bottle%2==0){\n",
    "        money += 1\n",
    "    }\n",
    "    if(cap%4==0){\n",
    "        money += 1\n",
    "    }\n",
    "}\n",
    "println(s\"u can drink $count bottles\")"
   ]
  },
  {
   "cell_type": "code",
   "execution_count": 24,
   "metadata": {
    "collapsed": false
   },
   "outputs": [
    {
     "name": "stdout",
     "output_type": "stream",
     "text": [
      "u can drink 395 bottles\n"
     ]
    }
   ],
   "source": [
    "def drink(count:Int, cap:Int, bottle:Int, money:Int):Int = {\n",
    "    if(cap < 4 && bottle < 2 && money == 0)\n",
    "        count\n",
    "    else\n",
    "        drink(count+money,money+cap%4,money+bottle%2,cap/4+bottle/2)\n",
    "}\n",
    "println(s\"u can drink ${drink(0,0,0,100)} bottles\")"
   ]
  }
 ],
 "metadata": {
  "kernelspec": {
   "display_name": "Apache Toree - Scala",
   "language": "scala",
   "name": "apache_toree_scala"
  },
  "language_info": {
   "file_extension": ".scala",
   "name": "scala",
   "version": "2.11.8"
  }
 },
 "nbformat": 4,
 "nbformat_minor": 2
}
