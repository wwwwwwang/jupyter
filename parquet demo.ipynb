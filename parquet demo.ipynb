{
 "cells": [
  {
   "cell_type": "code",
   "execution_count": 1,
   "metadata": {
    "collapsed": false,
    "scrolled": true
   },
   "outputs": [
    {
     "name": "stdout",
     "output_type": "stream",
     "text": [
      "root\n",
      " |-- UT: string (nullable = true)\n",
      " |-- FUID: string (nullable = true)\n",
      " |-- categories: string (nullable = true)\n",
      " |-- institutions: string (nullable = true)\n",
      " |-- authors: string (nullable = true)\n",
      " |-- query: array (nullable = true)\n",
      " |    |-- element: struct (containsNull = true)\n",
      " |    |    |-- q: string (nullable = true)\n",
      " |    |    |-- type: string (nullable = true)\n",
      " |    |    |-- count: integer (nullable = true)\n",
      " |-- json: string (nullable = true)\n",
      "\n"
     ]
    }
   ],
   "source": [
    "val raw = spark.read.parquet(\"file:///home/whsh/part-r-00000-c96a5543-d316-4567-8cdb-dec24abe1f85.gz.parquet\")\n",
    "raw.printSchema"
   ]
  },
  {
   "cell_type": "code",
   "execution_count": 11,
   "metadata": {
    "collapsed": false,
    "scrolled": true
   },
   "outputs": [
    {
     "name": "stdout",
     "output_type": "stream",
     "text": [
      "[WrappedArray([Istanbul Univ,AD,1], [ULUBELEN A*,AU,1], [Phytochemistry,SO,1], [Ulubelen A,AU,2], [TUBITAK,AD,1], [Longipinene derivatives from Lavandula stoechas subsp. stoechas,TI,1], [ULUBELEN,A*,AU,1])]\n",
      "[WrappedArray([Enderlein, J,AU,1], [myosin,TI,1], [Defocused image,TI,1], [Myosin,TI,2], [Syed,AU,2], [selvin,AU,1], [mckinney AND ha,AU,1], [selvin AND ha,AU,2], [Enderlein AND Selvin,AU,2], [quantum dots image,TI,2], [selvin pr AND ha t,AU,2], [quantum dots  defocused imaging,TS,1], [Selvin P,AU,1], [goldman,AU,1], [focus,TI,1])]\n"
     ]
    }
   ],
   "source": [
    "raw.select(\"query\").take(2).foreach(println)"
   ]
  },
  {
   "cell_type": "code",
   "execution_count": 10,
   "metadata": {
    "collapsed": false
   },
   "outputs": [
    {
     "name": "stdout",
     "output_type": "stream",
     "text": [
      "+-------------------+-------------+--------------------+--------------------+--------------------+--------------------+--------------------+--------------------+\n",
      "|                 UT|         FUID|          categories|        institutions|             authors|               query|                json|            queryone|\n",
      "+-------------------+-------------+--------------------+--------------------+--------------------+--------------------+--------------------+--------------------+\n",
      "|WOS:A1988R564700055|11389186WOS11|[\"BIOCHEMISTRY MO...|[\"BASIC SCI RES I...|[\"OLCAY Y\",\"GOREN...|[[Istanbul Univ,A...|{\"publishers\":[{\"...|[Istanbul Univ,AD,1]|\n",
      "|WOS:A1988R564700055|11389186WOS11|[\"BIOCHEMISTRY MO...|[\"BASIC SCI RES I...|[\"OLCAY Y\",\"GOREN...|[[Istanbul Univ,A...|{\"publishers\":[{\"...|  [ULUBELEN A*,AU,1]|\n",
      "|WOS:A1988R564700055|11389186WOS11|[\"BIOCHEMISTRY MO...|[\"BASIC SCI RES I...|[\"OLCAY Y\",\"GOREN...|[[Istanbul Univ,A...|{\"publishers\":[{\"...|[Phytochemistry,S...|\n",
      "|WOS:A1988R564700055|11389186WOS11|[\"BIOCHEMISTRY MO...|[\"BASIC SCI RES I...|[\"OLCAY Y\",\"GOREN...|[[Istanbul Univ,A...|{\"publishers\":[{\"...|   [Ulubelen A,AU,2]|\n",
      "|WOS:A1988R564700055|11389186WOS11|[\"BIOCHEMISTRY MO...|[\"BASIC SCI RES I...|[\"OLCAY Y\",\"GOREN...|[[Istanbul Univ,A...|{\"publishers\":[{\"...|      [TUBITAK,AD,1]|\n",
      "|WOS:A1988R564700055|11389186WOS11|[\"BIOCHEMISTRY MO...|[\"BASIC SCI RES I...|[\"OLCAY Y\",\"GOREN...|[[Istanbul Univ,A...|{\"publishers\":[{\"...|[Longipinene deri...|\n",
      "|WOS:A1988R564700055|11389186WOS11|[\"BIOCHEMISTRY MO...|[\"BASIC SCI RES I...|[\"OLCAY Y\",\"GOREN...|[[Istanbul Univ,A...|{\"publishers\":[{\"...|  [ULUBELEN,A*,AU,1]|\n",
      "|WOS:000226378503254| 60924180WOS1|      [\"BIOPHYSICS\"]|[\"UNIV PENN\",\"UNI...|[\"TOPRAK E\",\"SELV...|[[Enderlein, J,AU...|{\"publishers\":[{\"...| [Enderlein, J,AU,1]|\n",
      "|WOS:000226378503254| 60924180WOS1|      [\"BIOPHYSICS\"]|[\"UNIV PENN\",\"UNI...|[\"TOPRAK E\",\"SELV...|[[Enderlein, J,AU...|{\"publishers\":[{\"...|       [myosin,TI,1]|\n",
      "|WOS:000226378503254| 60924180WOS1|      [\"BIOPHYSICS\"]|[\"UNIV PENN\",\"UNI...|[\"TOPRAK E\",\"SELV...|[[Enderlein, J,AU...|{\"publishers\":[{\"...|[Defocused image,...|\n",
      "|WOS:000226378503254| 60924180WOS1|      [\"BIOPHYSICS\"]|[\"UNIV PENN\",\"UNI...|[\"TOPRAK E\",\"SELV...|[[Enderlein, J,AU...|{\"publishers\":[{\"...|       [Myosin,TI,2]|\n",
      "|WOS:000226378503254| 60924180WOS1|      [\"BIOPHYSICS\"]|[\"UNIV PENN\",\"UNI...|[\"TOPRAK E\",\"SELV...|[[Enderlein, J,AU...|{\"publishers\":[{\"...|         [Syed,AU,2]|\n",
      "|WOS:000226378503254| 60924180WOS1|      [\"BIOPHYSICS\"]|[\"UNIV PENN\",\"UNI...|[\"TOPRAK E\",\"SELV...|[[Enderlein, J,AU...|{\"publishers\":[{\"...|       [selvin,AU,1]|\n",
      "|WOS:000226378503254| 60924180WOS1|      [\"BIOPHYSICS\"]|[\"UNIV PENN\",\"UNI...|[\"TOPRAK E\",\"SELV...|[[Enderlein, J,AU...|{\"publishers\":[{\"...|[mckinney AND ha,...|\n",
      "|WOS:000226378503254| 60924180WOS1|      [\"BIOPHYSICS\"]|[\"UNIV PENN\",\"UNI...|[\"TOPRAK E\",\"SELV...|[[Enderlein, J,AU...|{\"publishers\":[{\"...|[selvin AND ha,AU,2]|\n",
      "|WOS:000226378503254| 60924180WOS1|      [\"BIOPHYSICS\"]|[\"UNIV PENN\",\"UNI...|[\"TOPRAK E\",\"SELV...|[[Enderlein, J,AU...|{\"publishers\":[{\"...|[Enderlein AND Se...|\n",
      "|WOS:000226378503254| 60924180WOS1|      [\"BIOPHYSICS\"]|[\"UNIV PENN\",\"UNI...|[\"TOPRAK E\",\"SELV...|[[Enderlein, J,AU...|{\"publishers\":[{\"...|[quantum dots ima...|\n",
      "|WOS:000226378503254| 60924180WOS1|      [\"BIOPHYSICS\"]|[\"UNIV PENN\",\"UNI...|[\"TOPRAK E\",\"SELV...|[[Enderlein, J,AU...|{\"publishers\":[{\"...|[selvin pr AND ha...|\n",
      "|WOS:000226378503254| 60924180WOS1|      [\"BIOPHYSICS\"]|[\"UNIV PENN\",\"UNI...|[\"TOPRAK E\",\"SELV...|[[Enderlein, J,AU...|{\"publishers\":[{\"...|[quantum dots  de...|\n",
      "|WOS:000226378503254| 60924180WOS1|      [\"BIOPHYSICS\"]|[\"UNIV PENN\",\"UNI...|[\"TOPRAK E\",\"SELV...|[[Enderlein, J,AU...|{\"publishers\":[{\"...|     [Selvin P,AU,1]|\n",
      "+-------------------+-------------+--------------------+--------------------+--------------------+--------------------+--------------------+--------------------+\n",
      "only showing top 20 rows\n",
      "\n"
     ]
    }
   ],
   "source": [
    "val newdf = raw.withColumn(\"queryone\", org.apache.spark.sql.functions.explode(raw(\"query\")))\n",
    "newdf.show"
   ]
  },
  {
   "cell_type": "code",
   "execution_count": 11,
   "metadata": {
    "collapsed": false,
    "scrolled": true
   },
   "outputs": [
    {
     "name": "stdout",
     "output_type": "stream",
     "text": [
      "+--------------------+-----+-------------------+--------------------+\n",
      "|             keyword|count|                 id|                json|\n",
      "+--------------------+-----+-------------------+--------------------+\n",
      "|              nature|   16|WOS:000319254000053|{\"pmid\":[\"MEDLINE...|\n",
      "|            planaria|   14|WOS:000337523700146|{\"publishers\":[{\"...|\n",
      "|planaria regenera...|   15|WOS:000337523700146|{\"publishers\":[{\"...|\n",
      "|                J. L|   21|WOS:000181900300002|{\"abstract\":[\"The...|\n",
      "|                 j l|   19|WOS:000181900300002|{\"abstract\":[\"The...|\n",
      "|                 J L|   75|WOS:000181900300002|{\"abstract\":[\"The...|\n",
      "|Functional connec...|   12|WOS:000263863000039|{\"pmid\":[\"MEDLINE...|\n",
      "|                MnBi|   16|WOS:000342245700019|{\"abstract\":[\"Fer...|\n",
      "|      photocatalytic|   10|WOS:000334855500039|{\"abstract\":[\"Ag2...|\n",
      "|                Ag2O|   12|WOS:000334855500039|{\"abstract\":[\"Ag2...|\n",
      "|            Mitchell|   10|WOS:000262040100004|{\"abstract\":[\"The...|\n",
      "|            shapotou|   20|WOS:000330386500016|{\"pmid\":[\"MEDLINE...|\n",
      "|             geochip|   13|WOS:000330386500016|{\"pmid\":[\"MEDLINE...|\n",
      "|        metagenomics|   12|WOS:000330386500016|{\"pmid\":[\"MEDLINE...|\n",
      "|The microbial gen...|   36|WOS:000330386500016|{\"pmid\":[\"MEDLINE...|\n",
      "|The microbial gen...|   20|WOS:000330386500016|{\"pmid\":[\"MEDLINE...|\n",
      "|        Zacharias, M|   20|WOS:000332306500009|{\"pmid\":[\"MEDLINE...|\n",
      "|                2014|   24|WOS:000332306500009|{\"pmid\":[\"MEDLINE...|\n",
      "|        Zacharias, M|   20|WOS:000332306500009|{\"pmid\":[\"MEDLINE...|\n",
      "|            HARDY RW|   13|WOS:000328808500005|{\"pmid\":[\"MEDLINE...|\n",
      "+--------------------+-----+-------------------+--------------------+\n",
      "only showing top 20 rows\n",
      "\n"
     ]
    }
   ],
   "source": [
    "val filterdf = newdf.filter(\"queryone.count > 9\")selectExpr(\"queryone.q as keyword\",\"queryone.count as count\",\"UT as id\",\"json\")\n",
    "filterdf.show"
   ]
  },
  {
   "cell_type": "code",
   "execution_count": 12,
   "metadata": {
    "collapsed": false
   },
   "outputs": [
    {
     "name": "stdout",
     "output_type": "stream",
     "text": [
      "root\n",
      " |-- keyword: string (nullable = true)\n",
      " |-- count: integer (nullable = true)\n",
      " |-- id: string (nullable = true)\n",
      " |-- json: string (nullable = true)\n",
      "\n"
     ]
    }
   ],
   "source": [
    "filterdf.printSchema"
   ]
  },
  {
   "cell_type": "code",
   "execution_count": 24,
   "metadata": {
    "collapsed": false
   },
   "outputs": [
    {
     "name": "stdout",
     "output_type": "stream",
     "text": [
      "keyword: nature,count: 16, id: WOS:000319254000053, title: Reconfiguration of the proteasome during chaperone-mediated assembly\n",
      "keyword: planaria,count: 14, id: WOS:000337523700146, title: COMBINATORIAL CO-MORBIDITY IN PLANARIA EXPOSED TO CADMIUM AND ETHANOL DURING HEAD REGENERATION\n",
      "keyword: planaria regeneration,count: 15, id: WOS:000337523700146, title: COMBINATORIAL CO-MORBIDITY IN PLANARIA EXPOSED TO CADMIUM AND ETHANOL DURING HEAD REGENERATION\n",
      "keyword: J. L,count: 21, id: WOS:000181900300002, title: Sustained reduction of serum cholesterol in low-dose 6-year simvastatin treatment with minimum side effects in 51,321 Japanese hypercholesterolemic patients - Implication of the J-LIT study, a large scale nationwide cohort study\n",
      "keyword: j l,count: 19, id: WOS:000181900300002, title: Sustained reduction of serum cholesterol in low-dose 6-year simvastatin treatment with minimum side effects in 51,321 Japanese hypercholesterolemic patients - Implication of the J-LIT study, a large scale nationwide cohort study\n",
      "keyword: J L,count: 75, id: WOS:000181900300002, title: Sustained reduction of serum cholesterol in low-dose 6-year simvastatin treatment with minimum side effects in 51,321 Japanese hypercholesterolemic patients - Implication of the J-LIT study, a large scale nationwide cohort study\n",
      "keyword: Functional connectivity of the human amygdala using resting state fMRI,count: 12, id: WOS:000263863000039, title: Functional connectivity of the human amygdala using resting state fMRI\n",
      "keyword: MnBi,count: 16, id: WOS:000342245700019, title: Magnetic-field-induced enhancement for synthesizing ferromagnetic MnBi phase by solid-state reaction sintering\n",
      "keyword: photocatalytic,count: 10, id: WOS:000334855500039, title: Phase transformation and enhanced photocatalytic activity of S-doped Ag2O/TiO2 heterostructured nanobelts\n",
      "keyword: Ag2O,count: 12, id: WOS:000334855500039, title: Phase transformation and enhanced photocatalytic activity of S-doped Ag2O/TiO2 heterostructured nanobelts\n",
      "keyword: Mitchell,count: 10, id: WOS:000262040100004, title: Direct observation of warping in the plasma sheet of Saturn\n",
      "keyword: shapotou,count: 20, id: WOS:000330386500016, title: The microbial gene diversity along an elevation gradient of the Tibetan grassland\n",
      "keyword: geochip,count: 13, id: WOS:000330386500016, title: The microbial gene diversity along an elevation gradient of the Tibetan grassland\n",
      "keyword: metagenomics,count: 12, id: WOS:000330386500016, title: The microbial gene diversity along an elevation gradient of the Tibetan grassland\n",
      "keyword: The microbial gene diversity along an elevation gradient of the Tibetan grassland,count: 36, id: WOS:000330386500016, title: The microbial gene diversity along an elevation gradient of the Tibetan grassland\n"
     ]
    }
   ],
   "source": [
    "import org.json4s._\n",
    "import org.json4s.JsonDSL._\n",
    "import org.json4s.jackson.JsonMethods._\n",
    "\n",
    "val res = filterdf.map(row=>{\n",
    "    val keyword = row.getString(0)\n",
    "    val count = row.getInt(1)\n",
    "    val id = row.getString(2)\n",
    "    val json = (parse(row.getString(3))\\\"title\")\n",
    "    val title = json(0)\n",
    "    \"keyword: \"+keyword+\",count: \"+count+\", id: \"+id+\", title: \"+title.values\n",
    "})\n",
    "res.take(15).foreach(println)"
   ]
  },
  {
   "cell_type": "code",
   "execution_count": 13,
   "metadata": {
    "collapsed": false,
    "scrolled": true
   },
   "outputs": [
    {
     "data": {
      "text/plain": [
       "Name: Unknown Error\n",
       "Message: <console>:25: error: object minidev is not a member of package net\n",
       "       import net.minidev.json.{JSONObject}\n",
       "                  ^\n",
       "StackTrace: "
      ]
     },
     "execution_count": 13,
     "metadata": {},
     "output_type": "execute_result"
    }
   ],
   "source": [
    "import net.minidev.json.{JSONObject}\n",
    "import net.minidev.json.parser.JSONParser\n",
    "\n",
    "val res = filterdf.map(row=>{\n",
    "    val keyword = row.getString(\"key\")\n",
    "    val count = row.getInt(\"count\")\n",
    "    val id = row.getString(\"id\")\n",
    "    val jsonParser =new JSONParser()\n",
    "    val jsonObj: JSONObject = jsonParser.parse(row.getString(\"json\")).asInstanceOf[JSONObject]\n",
    "    val title = jsonObj.get(\"title\").toString\n",
    "    \"keyword: \"+keyword+\",count: \"+count+\", id: \"+id+\", title: \"+title\n",
    "})\n",
    "res.show"
   ]
  },
  {
   "cell_type": "code",
   "execution_count": null,
   "metadata": {
    "collapsed": true
   },
   "outputs": [],
   "source": []
  }
 ],
 "metadata": {
  "kernelspec": {
   "display_name": "spark 2.1.0(scala 2.12.1)",
   "language": "",
   "name": "spark"
  },
  "language_info": {
   "codemirror_mode": "text/x-scala",
   "file_extension": ".scala",
   "mimetype": "text/x-scala",
   "name": "scala",
   "pygments_lexer": "scala",
   "version": "2.11.8"
  }
 },
 "nbformat": 4,
 "nbformat_minor": 2
}
